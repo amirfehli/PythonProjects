{
 "cells": [
  {
   "cell_type": "code",
   "execution_count": 26,
   "id": "1363f5eb",
   "metadata": {},
   "outputs": [],
   "source": [
    "EX1_1"
   ]
  },
  {
   "cell_type": "code",
   "execution_count": 27,
   "id": "cc0e5111",
   "metadata": {},
   "outputs": [],
   "source": [
    "#EX1 num +1\n",
    "\n",
    "def Num1(num):\n",
    "    '''\n",
    "    (int) -> int\n",
    "     Get a number and +1 and then return it.\n",
    "\n",
    "     example:\n",
    "     >> ex1(1)\n",
    "     2\n",
    "    '''\n",
    "    result= num + 1\n",
    "    return(result)"
   ]
  },
  {
   "cell_type": "code",
   "execution_count": 28,
   "id": "fa655b82",
   "metadata": {},
   "outputs": [
    {
     "data": {
      "text/plain": [
       "5.5"
      ]
     },
     "execution_count": 28,
     "metadata": {},
     "output_type": "execute_result"
    }
   ],
   "source": [
    "Num1(4.5)"
   ]
  },
  {
   "cell_type": "code",
   "execution_count": 29,
   "id": "b99bf956",
   "metadata": {
    "scrolled": true
   },
   "outputs": [],
   "source": [
    "EX1_2"
   ]
  },
  {
   "cell_type": "code",
   "execution_count": 30,
   "id": "a34804fb",
   "metadata": {},
   "outputs": [],
   "source": [
    "#area of triangle\n",
    "\n",
    "def Area(Height,Base):\n",
    "    '''\n",
    "    (int) -> int\n",
    "    receives height and base of triangle and\n",
    "    gives you the area of the triangle.\n",
    "    \n",
    "    example:\n",
    "    >>>Area(6,3)\n",
    "    9\n",
    "    '''\n",
    "    Triangle = (Height * Base)/2\n",
    "    return(Triangle)"
   ]
  },
  {
   "cell_type": "code",
   "execution_count": 38,
   "id": "4a1c42ca",
   "metadata": {},
   "outputs": [
    {
     "data": {
      "text/plain": [
       "16.0"
      ]
     },
     "execution_count": 38,
     "metadata": {},
     "output_type": "execute_result"
    }
   ],
   "source": [
    "Area(4,8)"
   ]
  },
  {
   "cell_type": "code",
   "execution_count": null,
   "id": "d7f2ac6d",
   "metadata": {},
   "outputs": [],
   "source": [
    "EX1_3"
   ]
  },
  {
   "cell_type": "code",
   "execution_count": 103,
   "id": "4ab63960",
   "metadata": {},
   "outputs": [],
   "source": [
    "#Maximum Edge of a Triangle \n",
    "\n",
    "def Meot(side1,side2):\n",
    "    '''\n",
    "    (int) -> int\n",
    "    You can import 2 sides and take third side of triangel.\n",
    "    \n",
    "    example:\n",
    "    >>>Meot(3,4)\n",
    "    6\n",
    "    '''\n",
    "    #rah hali baraye manfi nabodan peyda nashod be joz <if> va rah estefade ham peyda nashod\n",
    "    side3 = (side1 + side2) - 1\n",
    "    return(side3)"
   ]
  },
  {
   "cell_type": "code",
   "execution_count": 104,
   "id": "f2213e99",
   "metadata": {
    "scrolled": true
   },
   "outputs": [
    {
     "data": {
      "text/plain": [
       "6"
      ]
     },
     "execution_count": 104,
     "metadata": {},
     "output_type": "execute_result"
    }
   ],
   "source": [
    "Meot(4,3)"
   ]
  },
  {
   "cell_type": "code",
   "execution_count": null,
   "id": "bad16e0b",
   "metadata": {},
   "outputs": [],
   "source": [
    "EX1_4"
   ]
  },
  {
   "cell_type": "code",
   "execution_count": 91,
   "id": "14cbe42f",
   "metadata": {},
   "outputs": [],
   "source": [
    "#Day of the Week\n",
    "\n",
    "def Days(num):\n",
    "    '''\n",
    "    (int) -> str\n",
    "    Takes a number and returns the day of the week.\n",
    "    \n",
    "    example:\n",
    "    >>>Days(1)\n",
    "    Monday\n",
    "    '''\n",
    "    if num == 1:\n",
    "        result = \"Monday\"\n",
    "    elif num == 2:\n",
    "        result = \"Tuesday\"\n",
    "    elif num == 3:\n",
    "        result = \"Wednesday\"\n",
    "    elif num == 4:\n",
    "        result = \"Thursday\"\n",
    "    elif num == 5:\n",
    "        result = \"Friday\"\n",
    "    elif num == 6:\n",
    "        result = \"Saturday\"\n",
    "    elif num == 7:\n",
    "        result = \"Sunday\"\n",
    "    elif num > 7:\n",
    "        result = \"Error:The week has seven days\"\n",
    "        \n",
    "    return(result)\n",
    "    \n",
    "    "
   ]
  },
  {
   "cell_type": "code",
   "execution_count": 92,
   "id": "a23d11a2",
   "metadata": {},
   "outputs": [
    {
     "data": {
      "text/plain": [
       "'Sunday'"
      ]
     },
     "execution_count": 92,
     "metadata": {},
     "output_type": "execute_result"
    }
   ],
   "source": [
    "Days(7)"
   ]
  },
  {
   "cell_type": "code",
   "execution_count": null,
   "id": "84ac7bef",
   "metadata": {},
   "outputs": [],
   "source": [
    "EX1_5"
   ]
  },
  {
   "cell_type": "code",
   "execution_count": 164,
   "id": "378092c0",
   "metadata": {},
   "outputs": [],
   "source": [
    "#Age Classifier \n",
    "#Fehli\n",
    "def AgeClass(num):\n",
    "    '''\n",
    "    (int) -> str\n",
    "    Takes an age and returns Classifier:\n",
    "    If the person is 1 year old or less, he or she is an infant.\n",
    "    If the person is older than 1 year, but younger than 13 years, he or she is a child.\n",
    "    If the person is at least 13 years old, but less than 20 years old, he or she is a teenager.\n",
    "    If the person is at least 20 years old, he or she is an adult.\n",
    "    \n",
    "    example:\n",
    "    >>>AgeClass(12)\n",
    "    child\n",
    "    \n",
    "    '''\n",
    "    if num <= 1 and num > 0:\n",
    "        result = \"infant\"\n",
    "    elif num > 1 and num < 13:\n",
    "        result = \"child\"\n",
    "    elif num >= 13 and num < 20:\n",
    "        result = \"teenager\"\n",
    "    elif num >=20 :\n",
    "        result = \"adult\"\n",
    "    else:\n",
    "        result = \"Error\"\n",
    "        \n",
    "    return(result)"
   ]
  },
  {
   "cell_type": "code",
   "execution_count": 169,
   "id": "f6a4fae2",
   "metadata": {},
   "outputs": [
    {
     "data": {
      "text/plain": [
       "'teenager'"
      ]
     },
     "execution_count": 169,
     "metadata": {},
     "output_type": "execute_result"
    }
   ],
   "source": [
    "AgeClass(15)"
   ]
  },
  {
   "cell_type": "code",
   "execution_count": null,
   "id": "50345a53",
   "metadata": {},
   "outputs": [],
   "source": [
    "EX1_6"
   ]
  },
  {
   "cell_type": "code",
   "execution_count": 170,
   "id": "5afa5f28",
   "metadata": {},
   "outputs": [],
   "source": [
    "#Roman Numerals \n",
    "\n",
    "def Roman(num):\n",
    "    '''\n",
    "    (int) -> str\n",
    "    takes number and returns Roman Numerals:\n",
    "    I, II, III, IV, V, VI, VII...\n",
    "    \n",
    "    example:\n",
    "    >>> Roman(2)\n",
    "    II\n",
    "    '''\n",
    "    if num == 1:\n",
    "        result = \"I\"\n",
    "    elif num == 2:\n",
    "        result = \"II\"\n",
    "    elif num == 3:\n",
    "        result = \"III\"\n",
    "    elif num == 4:\n",
    "        result = \"IV\"\n",
    "    elif num == 5:\n",
    "        result = \"V\"\n",
    "    elif num == 6:\n",
    "        result = \"VI\"\n",
    "    elif num == 7:\n",
    "        result = \"VII\"\n",
    "    elif num == 8:\n",
    "        result = \"VIII\"\n",
    "    elif num == 9:\n",
    "        result = \"IX\"\n",
    "    elif num == 10:\n",
    "        result = \"X\"\n",
    "    else:\n",
    "        result = \"Error: Undefined\"\n",
    "    return(result)\n",
    "       \n",
    "        "
   ]
  },
  {
   "cell_type": "code",
   "execution_count": 181,
   "id": "38c9c7fb",
   "metadata": {},
   "outputs": [
    {
     "data": {
      "text/plain": [
       "'VIII'"
      ]
     },
     "execution_count": 181,
     "metadata": {},
     "output_type": "execute_result"
    }
   ],
   "source": [
    "Roman(8)"
   ]
  },
  {
   "cell_type": "code",
   "execution_count": null,
   "id": "6515baf3",
   "metadata": {},
   "outputs": [],
   "source": []
  }
 ],
 "metadata": {
  "kernelspec": {
   "display_name": "Python 3 (ipykernel)",
   "language": "python",
   "name": "python3"
  },
  "language_info": {
   "codemirror_mode": {
    "name": "ipython",
    "version": 3
   },
   "file_extension": ".py",
   "mimetype": "text/x-python",
   "name": "python",
   "nbconvert_exporter": "python",
   "pygments_lexer": "ipython3",
   "version": "3.9.13"
  }
 },
 "nbformat": 4,
 "nbformat_minor": 5
}
